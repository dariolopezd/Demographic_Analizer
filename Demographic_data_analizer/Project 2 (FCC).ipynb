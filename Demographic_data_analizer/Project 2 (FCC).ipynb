{
  "cells": [
    {
      "cell_type": "markdown",
      "source": "# Demographic data analizer",
      "metadata": {
        "tags": [],
        "cell_id": "7d8863f9c36f4780a102b180ca46856d",
        "is_collapsed": false,
        "formattedRanges": [],
        "deepnote_app_coordinates": {
          "h": 2,
          "w": 24,
          "x": 0,
          "y": null
        },
        "deepnote_cell_type": "text-cell-h1"
      }
    },
    {
      "cell_type": "markdown",
      "source": "Created by Darío López Díaz. Work in progress..",
      "metadata": {
        "cell_id": "69a5febe93904d1a9de043c3aa070d5e",
        "formattedRanges": [],
        "deepnote_app_coordinates": {
          "h": 2,
          "w": 8,
          "x": 0,
          "y": 0
        },
        "deepnote_cell_type": "text-cell-p"
      }
    },
    {
      "cell_type": "markdown",
      "source": "The idea of this project is to analize demographic data, which consist of education, race, income and work time per week data of people from different countries. We will compute several values of interest, along the data. The data frame is coming from: Dua, D. and Graff, C. (2019). UCI Machine Learning Repository&nbsp;[http://archive.ics.uci.edu/ml]. Irvine, CA: University of California, School of Information and Computer Science.\n",
      "metadata": {
        "tags": [],
        "cell_id": "e045e6444b48423b8b55f77a6acf4c98",
        "is_collapsed": false,
        "formattedRanges": [],
        "deepnote_app_coordinates": {
          "h": 2,
          "w": 24,
          "x": 0,
          "y": 3
        },
        "deepnote_cell_type": "text-cell-p"
      }
    },
    {
      "cell_type": "code",
      "source": "import pandas as pd\nimport numpy as np\nimport seaborn as sns\nimport matplotlib.pyplot as plt",
      "metadata": {
        "cell_id": "d796f7e29eea4baf88de1b217c6e6215",
        "source_hash": "68301009",
        "execution_start": 1685724373440,
        "execution_millis": 2363,
        "deepnote_app_coordinates": {
          "h": 5,
          "w": 24,
          "x": 0,
          "y": 6
        },
        "deepnote_to_be_reexecuted": false,
        "deepnote_cell_type": "code"
      },
      "outputs": [],
      "execution_count": 1
    },
    {
      "cell_type": "markdown",
      "source": "The data looks in the following way: ",
      "metadata": {
        "tags": [],
        "cell_id": "0b7ed3aba8df45999ceed1a7a96fce09",
        "is_collapsed": false,
        "formattedRanges": [],
        "deepnote_app_coordinates": {
          "h": 2,
          "w": 24,
          "x": 0,
          "y": 12
        },
        "deepnote_cell_type": "text-cell-p"
      }
    },
    {
      "cell_type": "code",
      "source": "df = pd.read_csv('adult.data.csv') \ndf.head()  ",
      "metadata": {
        "cell_id": "fbbf23b3953e4fefb99598c618ae610b",
        "source_hash": "94c46f8e",
        "execution_start": 1685724408271,
        "execution_millis": 25,
        "deepnote_app_coordinates": {
          "h": 5,
          "w": 24,
          "x": 0,
          "y": 15
        },
        "deepnote_to_be_reexecuted": false,
        "deepnote_cell_type": "code"
      },
      "outputs": [
        {
          "output_type": "execute_result",
          "execution_count": 12,
          "data": {
            "application/vnd.deepnote.dataframe.v3+json": {
              "column_count": 15,
              "row_count": 5,
              "columns": [
                {
                  "name": "age",
                  "dtype": "int64",
                  "stats": {
                    "unique_count": 5,
                    "nan_count": 0,
                    "min": "28",
                    "max": "53",
                    "histogram": [
                      {
                        "bin_start": 28,
                        "bin_end": 30.5,
                        "count": 1
                      },
                      {
                        "bin_start": 30.5,
                        "bin_end": 33,
                        "count": 0
                      },
                      {
                        "bin_start": 33,
                        "bin_end": 35.5,
                        "count": 0
                      },
                      {
                        "bin_start": 35.5,
                        "bin_end": 38,
                        "count": 0
                      },
                      {
                        "bin_start": 38,
                        "bin_end": 40.5,
                        "count": 2
                      },
                      {
                        "bin_start": 40.5,
                        "bin_end": 43,
                        "count": 0
                      },
                      {
                        "bin_start": 43,
                        "bin_end": 45.5,
                        "count": 0
                      },
                      {
                        "bin_start": 45.5,
                        "bin_end": 48,
                        "count": 0
                      },
                      {
                        "bin_start": 48,
                        "bin_end": 50.5,
                        "count": 1
                      },
                      {
                        "bin_start": 50.5,
                        "bin_end": 53,
                        "count": 1
                      }
                    ]
                  }
                },
                {
                  "name": "workclass",
                  "dtype": "object",
                  "stats": {
                    "unique_count": 3,
                    "nan_count": 0,
                    "categories": [
                      {
                        "name": "Private",
                        "count": 3
                      },
                      {
                        "name": "State-gov",
                        "count": 1
                      },
                      {
                        "name": "Self-emp-not-inc",
                        "count": 1
                      }
                    ]
                  }
                },
                {
                  "name": "fnlwgt",
                  "dtype": "int64",
                  "stats": {
                    "unique_count": 5,
                    "nan_count": 0,
                    "min": "77516",
                    "max": "338409",
                    "histogram": [
                      {
                        "bin_start": 77516,
                        "bin_end": 103605.3,
                        "count": 2
                      },
                      {
                        "bin_start": 103605.3,
                        "bin_end": 129694.6,
                        "count": 0
                      },
                      {
                        "bin_start": 129694.6,
                        "bin_end": 155783.9,
                        "count": 0
                      },
                      {
                        "bin_start": 155783.9,
                        "bin_end": 181873.2,
                        "count": 0
                      },
                      {
                        "bin_start": 181873.2,
                        "bin_end": 207962.5,
                        "count": 0
                      },
                      {
                        "bin_start": 207962.5,
                        "bin_end": 234051.8,
                        "count": 1
                      },
                      {
                        "bin_start": 234051.8,
                        "bin_end": 260141.1,
                        "count": 1
                      },
                      {
                        "bin_start": 260141.1,
                        "bin_end": 286230.4,
                        "count": 0
                      },
                      {
                        "bin_start": 286230.4,
                        "bin_end": 312319.69999999995,
                        "count": 0
                      },
                      {
                        "bin_start": 312319.69999999995,
                        "bin_end": 338409,
                        "count": 1
                      }
                    ]
                  }
                },
                {
                  "name": "education",
                  "dtype": "object",
                  "stats": {
                    "unique_count": 3,
                    "nan_count": 0,
                    "categories": [
                      {
                        "name": "Bachelors",
                        "count": 3
                      },
                      {
                        "name": "HS-grad",
                        "count": 1
                      },
                      {
                        "name": "11th",
                        "count": 1
                      }
                    ]
                  }
                },
                {
                  "name": "education-num",
                  "dtype": "int64",
                  "stats": {
                    "unique_count": 3,
                    "nan_count": 0,
                    "min": "7",
                    "max": "13",
                    "histogram": [
                      {
                        "bin_start": 7,
                        "bin_end": 7.6,
                        "count": 1
                      },
                      {
                        "bin_start": 7.6,
                        "bin_end": 8.2,
                        "count": 0
                      },
                      {
                        "bin_start": 8.2,
                        "bin_end": 8.8,
                        "count": 0
                      },
                      {
                        "bin_start": 8.8,
                        "bin_end": 9.4,
                        "count": 1
                      },
                      {
                        "bin_start": 9.4,
                        "bin_end": 10,
                        "count": 0
                      },
                      {
                        "bin_start": 10,
                        "bin_end": 10.6,
                        "count": 0
                      },
                      {
                        "bin_start": 10.6,
                        "bin_end": 11.2,
                        "count": 0
                      },
                      {
                        "bin_start": 11.2,
                        "bin_end": 11.8,
                        "count": 0
                      },
                      {
                        "bin_start": 11.8,
                        "bin_end": 12.399999999999999,
                        "count": 0
                      },
                      {
                        "bin_start": 12.399999999999999,
                        "bin_end": 13,
                        "count": 3
                      }
                    ]
                  }
                },
                {
                  "name": "marital-status",
                  "dtype": "object",
                  "stats": {
                    "unique_count": 3,
                    "nan_count": 0,
                    "categories": [
                      {
                        "name": "Married-civ-spouse",
                        "count": 3
                      },
                      {
                        "name": "Never-married",
                        "count": 1
                      },
                      {
                        "name": "Divorced",
                        "count": 1
                      }
                    ]
                  }
                },
                {
                  "name": "occupation",
                  "dtype": "object",
                  "stats": {
                    "unique_count": 4,
                    "nan_count": 0,
                    "categories": [
                      {
                        "name": "Handlers-cleaners",
                        "count": 2
                      },
                      {
                        "name": "Adm-clerical",
                        "count": 1
                      },
                      {
                        "name": "2 others",
                        "count": 2
                      }
                    ]
                  }
                },
                {
                  "name": "relationship",
                  "dtype": "object",
                  "stats": {
                    "unique_count": 3,
                    "nan_count": 0,
                    "categories": [
                      {
                        "name": "Not-in-family",
                        "count": 2
                      },
                      {
                        "name": "Husband",
                        "count": 2
                      },
                      {
                        "name": "Wife",
                        "count": 1
                      }
                    ]
                  }
                },
                {
                  "name": "race",
                  "dtype": "object",
                  "stats": {
                    "unique_count": 2,
                    "nan_count": 0,
                    "categories": [
                      {
                        "name": "White",
                        "count": 3
                      },
                      {
                        "name": "Black",
                        "count": 2
                      }
                    ]
                  }
                },
                {
                  "name": "sex",
                  "dtype": "object",
                  "stats": {
                    "unique_count": 2,
                    "nan_count": 0,
                    "categories": [
                      {
                        "name": "Male",
                        "count": 4
                      },
                      {
                        "name": "Female",
                        "count": 1
                      }
                    ]
                  }
                },
                {
                  "name": "capital-gain",
                  "dtype": "int64",
                  "stats": {
                    "unique_count": 2,
                    "nan_count": 0,
                    "min": "0",
                    "max": "2174",
                    "histogram": [
                      {
                        "bin_start": 0,
                        "bin_end": 217.4,
                        "count": 4
                      },
                      {
                        "bin_start": 217.4,
                        "bin_end": 434.8,
                        "count": 0
                      },
                      {
                        "bin_start": 434.8,
                        "bin_end": 652.2,
                        "count": 0
                      },
                      {
                        "bin_start": 652.2,
                        "bin_end": 869.6,
                        "count": 0
                      },
                      {
                        "bin_start": 869.6,
                        "bin_end": 1087,
                        "count": 0
                      },
                      {
                        "bin_start": 1087,
                        "bin_end": 1304.4,
                        "count": 0
                      },
                      {
                        "bin_start": 1304.4,
                        "bin_end": 1521.8,
                        "count": 0
                      },
                      {
                        "bin_start": 1521.8,
                        "bin_end": 1739.2,
                        "count": 0
                      },
                      {
                        "bin_start": 1739.2,
                        "bin_end": 1956.6000000000001,
                        "count": 0
                      },
                      {
                        "bin_start": 1956.6000000000001,
                        "bin_end": 2174,
                        "count": 1
                      }
                    ]
                  }
                },
                {
                  "name": "capital-loss",
                  "dtype": "int64",
                  "stats": {
                    "unique_count": 1,
                    "nan_count": 0,
                    "min": "0",
                    "max": "0",
                    "histogram": [
                      {
                        "bin_start": -0.5,
                        "bin_end": -0.4,
                        "count": 0
                      },
                      {
                        "bin_start": -0.4,
                        "bin_end": -0.3,
                        "count": 0
                      },
                      {
                        "bin_start": -0.3,
                        "bin_end": -0.19999999999999996,
                        "count": 0
                      },
                      {
                        "bin_start": -0.19999999999999996,
                        "bin_end": -0.09999999999999998,
                        "count": 0
                      },
                      {
                        "bin_start": -0.09999999999999998,
                        "bin_end": 0,
                        "count": 0
                      },
                      {
                        "bin_start": 0,
                        "bin_end": 0.10000000000000009,
                        "count": 5
                      },
                      {
                        "bin_start": 0.10000000000000009,
                        "bin_end": 0.20000000000000007,
                        "count": 0
                      },
                      {
                        "bin_start": 0.20000000000000007,
                        "bin_end": 0.30000000000000004,
                        "count": 0
                      },
                      {
                        "bin_start": 0.30000000000000004,
                        "bin_end": 0.4,
                        "count": 0
                      },
                      {
                        "bin_start": 0.4,
                        "bin_end": 0.5,
                        "count": 0
                      }
                    ]
                  }
                },
                {
                  "name": "hours-per-week",
                  "dtype": "int64",
                  "stats": {
                    "unique_count": 2,
                    "nan_count": 0,
                    "min": "13",
                    "max": "40",
                    "histogram": [
                      {
                        "bin_start": 13,
                        "bin_end": 15.7,
                        "count": 1
                      },
                      {
                        "bin_start": 15.7,
                        "bin_end": 18.4,
                        "count": 0
                      },
                      {
                        "bin_start": 18.4,
                        "bin_end": 21.1,
                        "count": 0
                      },
                      {
                        "bin_start": 21.1,
                        "bin_end": 23.8,
                        "count": 0
                      },
                      {
                        "bin_start": 23.8,
                        "bin_end": 26.5,
                        "count": 0
                      },
                      {
                        "bin_start": 26.5,
                        "bin_end": 29.200000000000003,
                        "count": 0
                      },
                      {
                        "bin_start": 29.200000000000003,
                        "bin_end": 31.900000000000002,
                        "count": 0
                      },
                      {
                        "bin_start": 31.900000000000002,
                        "bin_end": 34.6,
                        "count": 0
                      },
                      {
                        "bin_start": 34.6,
                        "bin_end": 37.3,
                        "count": 0
                      },
                      {
                        "bin_start": 37.3,
                        "bin_end": 40,
                        "count": 4
                      }
                    ]
                  }
                },
                {
                  "name": "native-country",
                  "dtype": "object",
                  "stats": {
                    "unique_count": 2,
                    "nan_count": 0,
                    "categories": [
                      {
                        "name": "United-States",
                        "count": 4
                      },
                      {
                        "name": "Cuba",
                        "count": 1
                      }
                    ]
                  }
                },
                {
                  "name": "salary",
                  "dtype": "object",
                  "stats": {
                    "unique_count": 1,
                    "nan_count": 0,
                    "categories": [
                      {
                        "name": "<=50K",
                        "count": 5
                      }
                    ]
                  }
                },
                {
                  "name": "_deepnote_index_column",
                  "dtype": "int64"
                }
              ],
              "rows": [
                {
                  "age": 39,
                  "workclass": "State-gov",
                  "fnlwgt": 77516,
                  "education": "Bachelors",
                  "education-num": 13,
                  "marital-status": "Never-married",
                  "occupation": "Adm-clerical",
                  "relationship": "Not-in-family",
                  "race": "White",
                  "sex": "Male",
                  "capital-gain": 2174,
                  "capital-loss": 0,
                  "hours-per-week": 40,
                  "native-country": "United-States",
                  "salary": "<=50K",
                  "_deepnote_index_column": 0
                },
                {
                  "age": 50,
                  "workclass": "Self-emp-not-inc",
                  "fnlwgt": 83311,
                  "education": "Bachelors",
                  "education-num": 13,
                  "marital-status": "Married-civ-spouse",
                  "occupation": "Exec-managerial",
                  "relationship": "Husband",
                  "race": "White",
                  "sex": "Male",
                  "capital-gain": 0,
                  "capital-loss": 0,
                  "hours-per-week": 13,
                  "native-country": "United-States",
                  "salary": "<=50K",
                  "_deepnote_index_column": 1
                },
                {
                  "age": 38,
                  "workclass": "Private",
                  "fnlwgt": 215646,
                  "education": "HS-grad",
                  "education-num": 9,
                  "marital-status": "Divorced",
                  "occupation": "Handlers-cleaners",
                  "relationship": "Not-in-family",
                  "race": "White",
                  "sex": "Male",
                  "capital-gain": 0,
                  "capital-loss": 0,
                  "hours-per-week": 40,
                  "native-country": "United-States",
                  "salary": "<=50K",
                  "_deepnote_index_column": 2
                },
                {
                  "age": 53,
                  "workclass": "Private",
                  "fnlwgt": 234721,
                  "education": "11th",
                  "education-num": 7,
                  "marital-status": "Married-civ-spouse",
                  "occupation": "Handlers-cleaners",
                  "relationship": "Husband",
                  "race": "Black",
                  "sex": "Male",
                  "capital-gain": 0,
                  "capital-loss": 0,
                  "hours-per-week": 40,
                  "native-country": "United-States",
                  "salary": "<=50K",
                  "_deepnote_index_column": 3
                },
                {
                  "age": 28,
                  "workclass": "Private",
                  "fnlwgt": 338409,
                  "education": "Bachelors",
                  "education-num": 13,
                  "marital-status": "Married-civ-spouse",
                  "occupation": "Prof-specialty",
                  "relationship": "Wife",
                  "race": "Black",
                  "sex": "Female",
                  "capital-gain": 0,
                  "capital-loss": 0,
                  "hours-per-week": 40,
                  "native-country": "Cuba",
                  "salary": "<=50K",
                  "_deepnote_index_column": 4
                }
              ]
            },
            "text/plain": "   age         workclass  fnlwgt  education  education-num  \\\n0   39         State-gov   77516  Bachelors             13   \n1   50  Self-emp-not-inc   83311  Bachelors             13   \n2   38           Private  215646    HS-grad              9   \n3   53           Private  234721       11th              7   \n4   28           Private  338409  Bachelors             13   \n\n       marital-status         occupation   relationship   race     sex  \\\n0       Never-married       Adm-clerical  Not-in-family  White    Male   \n1  Married-civ-spouse    Exec-managerial        Husband  White    Male   \n2            Divorced  Handlers-cleaners  Not-in-family  White    Male   \n3  Married-civ-spouse  Handlers-cleaners        Husband  Black    Male   \n4  Married-civ-spouse     Prof-specialty           Wife  Black  Female   \n\n   capital-gain  capital-loss  hours-per-week native-country salary  \n0          2174             0              40  United-States  <=50K  \n1             0             0              13  United-States  <=50K  \n2             0             0              40  United-States  <=50K  \n3             0             0              40  United-States  <=50K  \n4             0             0              40           Cuba  <=50K  ",
            "text/html": "<div>\n<style scoped>\n    .dataframe tbody tr th:only-of-type {\n        vertical-align: middle;\n    }\n\n    .dataframe tbody tr th {\n        vertical-align: top;\n    }\n\n    .dataframe thead th {\n        text-align: right;\n    }\n</style>\n<table border=\"1\" class=\"dataframe\">\n  <thead>\n    <tr style=\"text-align: right;\">\n      <th></th>\n      <th>age</th>\n      <th>workclass</th>\n      <th>fnlwgt</th>\n      <th>education</th>\n      <th>education-num</th>\n      <th>marital-status</th>\n      <th>occupation</th>\n      <th>relationship</th>\n      <th>race</th>\n      <th>sex</th>\n      <th>capital-gain</th>\n      <th>capital-loss</th>\n      <th>hours-per-week</th>\n      <th>native-country</th>\n      <th>salary</th>\n    </tr>\n  </thead>\n  <tbody>\n    <tr>\n      <th>0</th>\n      <td>39</td>\n      <td>State-gov</td>\n      <td>77516</td>\n      <td>Bachelors</td>\n      <td>13</td>\n      <td>Never-married</td>\n      <td>Adm-clerical</td>\n      <td>Not-in-family</td>\n      <td>White</td>\n      <td>Male</td>\n      <td>2174</td>\n      <td>0</td>\n      <td>40</td>\n      <td>United-States</td>\n      <td>&lt;=50K</td>\n    </tr>\n    <tr>\n      <th>1</th>\n      <td>50</td>\n      <td>Self-emp-not-inc</td>\n      <td>83311</td>\n      <td>Bachelors</td>\n      <td>13</td>\n      <td>Married-civ-spouse</td>\n      <td>Exec-managerial</td>\n      <td>Husband</td>\n      <td>White</td>\n      <td>Male</td>\n      <td>0</td>\n      <td>0</td>\n      <td>13</td>\n      <td>United-States</td>\n      <td>&lt;=50K</td>\n    </tr>\n    <tr>\n      <th>2</th>\n      <td>38</td>\n      <td>Private</td>\n      <td>215646</td>\n      <td>HS-grad</td>\n      <td>9</td>\n      <td>Divorced</td>\n      <td>Handlers-cleaners</td>\n      <td>Not-in-family</td>\n      <td>White</td>\n      <td>Male</td>\n      <td>0</td>\n      <td>0</td>\n      <td>40</td>\n      <td>United-States</td>\n      <td>&lt;=50K</td>\n    </tr>\n    <tr>\n      <th>3</th>\n      <td>53</td>\n      <td>Private</td>\n      <td>234721</td>\n      <td>11th</td>\n      <td>7</td>\n      <td>Married-civ-spouse</td>\n      <td>Handlers-cleaners</td>\n      <td>Husband</td>\n      <td>Black</td>\n      <td>Male</td>\n      <td>0</td>\n      <td>0</td>\n      <td>40</td>\n      <td>United-States</td>\n      <td>&lt;=50K</td>\n    </tr>\n    <tr>\n      <th>4</th>\n      <td>28</td>\n      <td>Private</td>\n      <td>338409</td>\n      <td>Bachelors</td>\n      <td>13</td>\n      <td>Married-civ-spouse</td>\n      <td>Prof-specialty</td>\n      <td>Wife</td>\n      <td>Black</td>\n      <td>Female</td>\n      <td>0</td>\n      <td>0</td>\n      <td>40</td>\n      <td>Cuba</td>\n      <td>&lt;=50K</td>\n    </tr>\n  </tbody>\n</table>\n</div>"
          },
          "metadata": {}
        }
      ],
      "execution_count": 12
    },
    {
      "cell_type": "markdown",
      "source": "People of each race:",
      "metadata": {
        "tags": [],
        "cell_id": "fe22a6656ee04d41b3714c937819dac6",
        "deepnote_app_coordinates": {
          "h": 5,
          "w": 24,
          "x": 0,
          "y": 21
        },
        "deepnote_cell_type": "markdown"
      }
    },
    {
      "cell_type": "code",
      "source": "print(df.groupby('race').size())\nsns.countplot(data=df,x='race') \nplt.xticks(rotation=45)\nplt.show()",
      "metadata": {
        "cell_id": "dbbacc57d1dd45be934526354b27682e",
        "source_hash": "a98b9a6b",
        "execution_start": 1685724375973,
        "execution_millis": 313,
        "deepnote_app_coordinates": {
          "h": 5,
          "w": 24,
          "x": 0,
          "y": 27
        },
        "deepnote_to_be_reexecuted": false,
        "deepnote_app_is_code_hidden": false,
        "deepnote_cell_type": "code"
      },
      "outputs": [
        {
          "name": "stdout",
          "text": "race\nAmer-Indian-Eskimo      311\nAsian-Pac-Islander     1039\nBlack                  3124\nOther                   271\nWhite                 27816\ndtype: int64\n",
          "output_type": "stream"
        },
        {
          "data": {
            "text/plain": "<Figure size 640x480 with 1 Axes>",
            "image/png": "[encoded data removed]"
          },
          "metadata": {
            "image/png": {
              "width": 589,
              "height": 526
            }
          },
          "output_type": "display_data"
        }
      ],
      "execution_count": 3
    },
    {
      "cell_type": "markdown",
      "source": "Average age of men:",
      "metadata": {
        "tags": [],
        "cell_id": "7f020ca42aa94d59888b8462feadfb97",
        "deepnote_app_coordinates": {
          "h": 5,
          "w": 24,
          "x": 0,
          "y": 33
        },
        "deepnote_cell_type": "markdown"
      }
    },
    {
      "cell_type": "code",
      "source": "df[['age','sex']].set_index('sex').drop(index='Female').mean()",
      "metadata": {
        "cell_id": "bdc4e0224eac420eaac6b598fdad21b9",
        "source_hash": "5af3a4aa",
        "execution_start": 1685724376337,
        "execution_millis": 2,
        "deepnote_app_coordinates": {
          "h": 5,
          "w": 24,
          "x": 0,
          "y": 39
        },
        "deepnote_to_be_reexecuted": false,
        "deepnote_cell_type": "code"
      },
      "outputs": [
        {
          "output_type": "execute_result",
          "execution_count": 4,
          "data": {
            "text/plain": "age    39.433547\ndtype: float64"
          },
          "metadata": {}
        }
      ],
      "execution_count": 4
    },
    {
      "cell_type": "markdown",
      "source": "Percentage of Bachelors:",
      "metadata": {
        "tags": [],
        "cell_id": "4379084308a5459f8b3e16f147bad7a7",
        "deepnote_app_coordinates": {
          "h": 5,
          "w": 24,
          "x": 0,
          "y": 45
        },
        "deepnote_cell_type": "markdown"
      }
    },
    {
      "cell_type": "code",
      "source": "df.filter(items=['education']).value_counts()['Bachelors'] / df.filter(items=['education']).value_counts().sum() * 100",
      "metadata": {
        "tags": [],
        "cell_id": "1237ab649f7f479da94c089e108c7e3d",
        "source_hash": "a42ab32a",
        "execution_start": 1685724376338,
        "execution_millis": 38,
        "deepnote_app_coordinates": {
          "h": 5,
          "w": 24,
          "x": 0,
          "y": 51
        },
        "deepnote_to_be_reexecuted": false,
        "deepnote_cell_type": "code"
      },
      "outputs": [
        {
          "output_type": "execute_result",
          "execution_count": 5,
          "data": {
            "text/plain": "16.44605509658794"
          },
          "metadata": {}
        }
      ],
      "execution_count": 5
    },
    {
      "cell_type": "markdown",
      "source": "Percentage of Bachelors, Masters or PhDs that make more than 50k:",
      "metadata": {
        "tags": [],
        "cell_id": "0a0fd7dc0fd9499ca473fddd9c789d0b",
        "deepnote_app_coordinates": {
          "h": 5,
          "w": 24,
          "x": 0,
          "y": 57
        },
        "deepnote_cell_type": "markdown"
      }
    },
    {
      "cell_type": "code",
      "source": "Salary_Degree = df.filter(items=['education','salary']).value_counts()['Bachelors']+df.filter(items=['education','salary']).value_counts()['Masters']+df.filter(items=['education','salary']).value_counts()['Doctorate']\nNumOf_Degree = df.filter(items=['education']).value_counts()['Bachelors']+df.filter(items=['education']).value_counts()['Masters']+df.filter(items=['education']).value_counts()['Doctorate']\n((Salary_Degree / NumOf_Degree)*100)['>50K']",
      "metadata": {
        "tags": [],
        "cell_id": "9604047bf46e45e4bd552996ca5a328e",
        "source_hash": "8c2a7803",
        "execution_start": 1685724376376,
        "execution_millis": 17,
        "deepnote_app_coordinates": {
          "h": 5,
          "w": 24,
          "x": 0,
          "y": 63
        },
        "deepnote_to_be_reexecuted": false,
        "deepnote_cell_type": "code"
      },
      "outputs": [
        {
          "output_type": "execute_result",
          "execution_count": 6,
          "data": {
            "text/plain": "46.535843011613935"
          },
          "metadata": {}
        }
      ],
      "execution_count": 6
    },
    {
      "cell_type": "markdown",
      "source": "Percentage of people without advanced education that make more than 50K:",
      "metadata": {
        "tags": [],
        "cell_id": "38b54b0e7e074e4693bc05d5a692faf6",
        "deepnote_app_coordinates": {
          "h": 5,
          "w": 24,
          "x": 0,
          "y": 69
        },
        "deepnote_cell_type": "markdown"
      }
    },
    {
      "cell_type": "code",
      "source": "Non_Advance = df.filter(items=['education','salary']).value_counts().drop(labels=['Bachelors','Masters','Doctorate'])\nNon_Advance_More50 = Non_Advance.drop(labels=['<=50K'],level=1).sum()\nNon_Advance_Less50 = Non_Advance.drop(labels=['>50K'],level=1).sum()\nNon_Advance_More50 / (Non_Advance_More50 + Non_Advance_Less50) * 100",
      "metadata": {
        "tags": [],
        "cell_id": "c9cc3693b1854d27bc9aa2d93a4e3a5d",
        "source_hash": "47117578",
        "execution_start": 1685724376466,
        "execution_millis": 4,
        "deepnote_app_coordinates": {
          "h": 5,
          "w": 24,
          "x": 0,
          "y": 75
        },
        "deepnote_to_be_reexecuted": false,
        "deepnote_cell_type": "code"
      },
      "outputs": [
        {
          "name": "stderr",
          "text": "/shared-libs/python3.7/py/lib/python3.7/site-packages/pandas/core/generic.py:4153: PerformanceWarning: dropping on a non-lexsorted multi-index without a level parameter may impact performance.\n  obj = obj._drop_axis(labels, axis, level=level, errors=errors)\n",
          "output_type": "stream"
        },
        {
          "output_type": "execute_result",
          "execution_count": 7,
          "data": {
            "text/plain": "17.3713601914639"
          },
          "metadata": {}
        }
      ],
      "execution_count": 7
    },
    {
      "cell_type": "markdown",
      "source": "Minimum number of hours a person works per week:",
      "metadata": {
        "tags": [],
        "cell_id": "17db7298984945b4a2c348a12c711281",
        "deepnote_app_coordinates": {
          "h": 5,
          "w": 24,
          "x": 0,
          "y": 81
        },
        "deepnote_cell_type": "markdown"
      }
    },
    {
      "cell_type": "code",
      "source": "df['hours-per-week'].min()",
      "metadata": {
        "tags": [],
        "cell_id": "ed0548fc01b24f6b9f434e8fa2d70275",
        "source_hash": "9b23035e",
        "execution_start": 1685724376467,
        "execution_millis": 3,
        "deepnote_app_coordinates": {
          "h": 5,
          "w": 24,
          "x": 0,
          "y": 87
        },
        "deepnote_to_be_reexecuted": false,
        "deepnote_cell_type": "code"
      },
      "outputs": [
        {
          "output_type": "execute_result",
          "execution_count": 8,
          "data": {
            "text/plain": "1"
          },
          "metadata": {}
        }
      ],
      "execution_count": 8
    },
    {
      "cell_type": "markdown",
      "source": "Percentage of the people who work the minimum number of hours per week have a salary of more than 50K:",
      "metadata": {
        "tags": [],
        "cell_id": "8c6a90627c594fda838c806a9be6cb08",
        "deepnote_app_coordinates": {
          "h": 5,
          "w": 24,
          "x": 0,
          "y": 93
        },
        "deepnote_cell_type": "markdown"
      }
    },
    {
      "cell_type": "code",
      "source": "Min_Hours_More50 = df[df['hours-per-week']==1]['salary'].value_counts()['>50K'] \nMin_Hours_Total = df[df['hours-per-week']==1]['salary'].value_counts().sum() \nMin_Hours_More50 / Min_Hours_Total *100 ",
      "metadata": {
        "tags": [],
        "cell_id": "ba07713552e942dbbf84b2be42f42358",
        "source_hash": "6d1fb052",
        "execution_start": 1685724376468,
        "execution_millis": 4,
        "deepnote_app_coordinates": {
          "h": 5,
          "w": 24,
          "x": 0,
          "y": 99
        },
        "deepnote_to_be_reexecuted": false,
        "deepnote_cell_type": "code"
      },
      "outputs": [
        {
          "output_type": "execute_result",
          "execution_count": 9,
          "data": {
            "text/plain": "10.0"
          },
          "metadata": {}
        }
      ],
      "execution_count": 9
    },
    {
      "cell_type": "markdown",
      "source": "Country with the highest percentage of people that earn >50K:",
      "metadata": {
        "tags": [],
        "cell_id": "cc22985d92114e66bd6f17feb27888dc",
        "deepnote_app_coordinates": {
          "h": 5,
          "w": 24,
          "x": 0,
          "y": 105
        },
        "deepnote_cell_type": "markdown"
      }
    },
    {
      "cell_type": "code",
      "source": "People_Over50byCountry = df[['native-country','salary']].set_index('salary').drop(labels='<=50K').groupby('native-country').size()\nprint(People_Over50byCountry.idxmax())\nPeople_Over50byCountry.max() / People_Over50byCountry.sum() * 100",
      "metadata": {
        "tags": [],
        "cell_id": "94942bf1937446f18819e81e4342a722",
        "source_hash": "9bbe40d4",
        "execution_start": 1685724376474,
        "execution_millis": 8,
        "deepnote_app_coordinates": {
          "h": 5,
          "w": 24,
          "x": 0,
          "y": 111
        },
        "deepnote_to_be_reexecuted": false,
        "deepnote_cell_type": "code"
      },
      "outputs": [
        {
          "name": "stdout",
          "text": "United-States\n",
          "output_type": "stream"
        },
        {
          "output_type": "execute_result",
          "execution_count": 10,
          "data": {
            "text/plain": "91.45517153424308"
          },
          "metadata": {}
        }
      ],
      "execution_count": 10
    },
    {
      "cell_type": "markdown",
      "source": "Most popular occupation for those who earn >50K in India",
      "metadata": {
        "tags": [],
        "cell_id": "022f39950f6641458db3924b9d7118a6",
        "deepnote_app_coordinates": {
          "h": 5,
          "w": 24,
          "x": 0,
          "y": 117
        },
        "deepnote_cell_type": "markdown"
      }
    },
    {
      "cell_type": "code",
      "source": "People_More50 = df[['occupation','native-country','salary']].set_index('salary').drop(labels='<=50K')\nPeople_More50_India = People_More50.set_index('native-country').loc['India'] \nPeople_More50_India.groupby('occupation').size().idxmax()",
      "metadata": {
        "tags": [],
        "cell_id": "e8f67894a0044fe8842e5069194a160c",
        "source_hash": "af55e81b",
        "execution_start": 1685724376527,
        "execution_millis": 16,
        "deepnote_app_coordinates": {
          "h": 5,
          "w": 24,
          "x": 0,
          "y": 123
        },
        "deepnote_to_be_reexecuted": false,
        "deepnote_cell_type": "code"
      },
      "outputs": [
        {
          "output_type": "execute_result",
          "execution_count": 11,
          "data": {
            "text/plain": "'Prof-specialty'"
          },
          "metadata": {}
        }
      ],
      "execution_count": 11
    },
    {
      "cell_type": "markdown",
      "source": "<a style='text-decoration:none;line-height:16px;display:flex;color:#5B5B62;padding:10px;justify-content:end;' href='https://deepnote.com?utm_source=created-in-deepnote-cell&projectId=caf0ee73-17ac-4035-9126-7542698c8712' target=\"_blank\">\n<img alt='Created in deepnote.com' style='display:inline;max-height:16px;margin:0px;margin-right:7.5px;' src='data:image/svg+xml;base64,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' > </img>\nCreated in <span style='font-weight:600;margin-left:4px;'>Deepnote</span></a>",
      "metadata": {
        "created_in_deepnote_cell": true,
        "deepnote_cell_type": "markdown"
      }
    }
  ],
  "nbformat": 4,
  "nbformat_minor": 0,
  "metadata": {
    "deepnote": {},
    "kernelspec": {
      "name": "python3",
      "language": "python",
      "display_name": "Python 3 (ipykernel)"
    },
    "language_info": {
      "name": "python",
      "version": "3.9.7",
      "mimetype": "text/x-python",
      "file_extension": ".py",
      "pygments_lexer": "ipython3",
      "codemirror_mode": {
        "name": "ipython",
        "version": 3
      },
      "nbconvert_exporter": "python"
    },
    "deepnote_app_layout": "article",
    "deepnote_notebook_id": "fe485cc1ab664a4ab9f52f30bf5d2564",
    "deepnote_execution_queue": [],
    "deepnote_persisted_session": {
      "createdAt": "2023-06-02T17:16:44.865Z"
    }
  }
}